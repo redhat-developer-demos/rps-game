{
 "cells": [
  {
   "cell_type": "markdown",
   "id": "f73046ff",
   "metadata": {},
   "source": [
    "# REST Inference"
   ]
  },
  {
   "cell_type": "markdown",
   "id": "2e7eb303-2ded-41b5-91db-8b8a8860d2ac",
   "metadata": {},
   "source": [
    "### Setup"
   ]
  },
  {
   "cell_type": "code",
   "execution_count": null,
   "id": "2bfc2711-b6a9-47eb-b51a-ee3f711d5b1a",
   "metadata": {},
   "outputs": [],
   "source": [
    "!pip install opencv-python-headless"
   ]
  },
  {
   "cell_type": "code",
   "execution_count": 1,
   "id": "1d17b252-7827-4cae-adb0-f98c9d80bcd7",
   "metadata": {},
   "outputs": [],
   "source": [
    "infer_url = 'http://modelmesh-serving:8008/v2/models/rps/infer'\n",
    "model_name = 'rps'\n",
    "input_name = \"input\""
   ]
  },
  {
   "cell_type": "markdown",
   "id": "2f645a20-61cc-4180-a642-3e875f04b9a2",
   "metadata": {},
   "source": [
    "### Preprocess image\n",
    "\n",
    "Preprocessing taken from:\n",
    "\n",
    "https://pytorch.org/vision/main/models/generated/torchvision.models.resnet18.html\n",
    "\n",
    "https://github.com/openvinotoolkit/model_server/blob/main/demos/using_onnx_model/python/onnx_model_demo.py"
   ]
  },
  {
   "cell_type": "code",
   "execution_count": 3,
   "id": "ce3eacd4-5dda-4311-9e9d-35a1bc6e137f",
   "metadata": {},
   "outputs": [],
   "source": [
    "import sys\n",
    "import argparse\n",
    "import numpy as np\n",
    "import cv2\n",
    "\n",
    "def preprocess(img_data):\n",
    "    mean_vec = np.array([0.485, 0.456, 0.406])\n",
    "    stddev_vec = np.array([0.229, 0.224, 0.225])\n",
    "    norm_img_data = np.zeros(img_data.shape).astype('float32')\n",
    "    for i in range(img_data.shape[0]):\n",
    "        # for each pixel in each channel, divide the value by 255 to get value between [0, 1] and then normalize\n",
    "        norm_img_data[i,:,:] = (img_data[i,:,:]/255 - mean_vec[i]) / stddev_vec[i]\n",
    "    return norm_img_data\n",
    "\n",
    "def getJpeg(path, size):\n",
    "    with open(path, mode='rb') as file:\n",
    "        content = file.read()\n",
    "\n",
    "    img = np.frombuffer(content, dtype=np.uint8)\n",
    "    img = cv2.imdecode(img, cv2.IMREAD_COLOR)  # BGR format\n",
    "    # format of data is HWC\n",
    "    # add image preprocessing if needed by the model\n",
    "    img = cv2.resize(img, (224, 224))\n",
    "    img = img.astype('float32')\n",
    "    #convert to NCHW\n",
    "    img = img.transpose(2,0,1)\n",
    "    # normalize to adjust to model training dataset\n",
    "    img = preprocess(img)\n",
    "    img = img.reshape(1,3,size,size)\n",
    "    # print(path, img.shape, \"; data range:\",np.amin(img),\":\",np.amax(img))\n",
    "    return img\n",
    "\n"
   ]
  },
  {
   "cell_type": "code",
   "execution_count": null,
   "id": "67c1d001-ff99-414a-95d4-5729d5849298",
   "metadata": {},
   "outputs": [],
   "source": [
    "import json\n",
    "import time\n",
    "import requests\n",
    "\n",
    "def infer(img, size=224, debug=False):\n",
    "    im_json = img.tolist() # Converts the array to a nested list\n",
    "\n",
    "    data = {\n",
    "        \"inputs\": [\n",
    "            {\n",
    "             \"name\": input_name,\n",
    "             \"shape\": [1, 3, size, size],\n",
    "             \"datatype\": \"FP32\",\n",
    "             \"data\": im_json\n",
    "            }\n",
    "        ]\n",
    "    }\n",
    "\n",
    "    # with open(\"resnet_rest_request.json\", \"w\") as write_file:\n",
    "    #     json.dump(data, write_file, indent=4)\n",
    "\n",
    "    t1 = time.time()\n",
    "    response = requests.post(infer_url, json=data)\n",
    "    t2 = time.time()\n",
    "    inference_time = t2-t1\n",
    "    raw_output = response.json()\n",
    "\n",
    "    # with open(\"resnet_rest_response.json\", \"w\") as write_file:\n",
    "    #     json.dump(raw_output, write_file, indent=4)\n",
    "    \n",
    "\n",
    "    arr = np.array(raw_output['outputs'][0]['data'])\n",
    "    max = np.argmax(arr)\n",
    "    class_name = classes.rps_classes[max]\n",
    "\n",
    "    \n",
    "    if debug:        \n",
    "        print(f\"Request took {inference_time}\")\n",
    "        print(arr)\n",
    "        print(\"Class is with highest score: {}\".format(max))\n",
    "        print(\"Detected class name: {}\".format(class_name))\n",
    "        \n",
    "    return class_name"
   ]
  },
  {
   "cell_type": "code",
   "execution_count": null,
   "id": "01aea74a-994f-4f7b-8138-78b97956752c",
   "metadata": {},
   "outputs": [],
   "source": [
    "import classes\n",
    "import os\n",
    "\n",
    "for root,dirs,files in os.walk('images'):\n",
    "    for file in files:\n",
    "        image_path = os.path.join(root, file)\n",
    "        print(f'Classifying {image_path}')\n",
    "        jpeg = getJpeg(image_path, 224)\n",
    "        class_name = infer(jpeg, 224, False)\n",
    "        print(\"Detected class name: {}\".format(class_name))\n"
   ]
  },
  {
   "cell_type": "code",
   "execution_count": null,
   "id": "6720e0f1-a189-47cd-acc4-e1f56a525984",
   "metadata": {},
   "outputs": [],
   "source": []
  }
 ],
 "metadata": {
  "kernelspec": {
   "display_name": "Python 3.9",
   "language": "python",
   "name": "python3"
  },
  "language_info": {
   "codemirror_mode": {
    "name": "ipython",
    "version": 3
   },
   "file_extension": ".py",
   "mimetype": "text/x-python",
   "name": "python",
   "nbconvert_exporter": "python",
   "pygments_lexer": "ipython3",
   "version": "3.9.18"
  }
 },
 "nbformat": 4,
 "nbformat_minor": 5
}
