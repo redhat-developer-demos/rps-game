{
 "cells": [
  {
   "cell_type": "markdown",
   "id": "7004d680-ee48-44a1-900b-e7b975099a78",
   "metadata": {},
   "source": [
    "# Replace with model upload to S3 bucket"
   ]
  },
  {
   "cell_type": "code",
   "execution_count": null,
   "id": "113befa5-c280-48be-a434-7c34004ca71d",
   "metadata": {},
   "outputs": [],
   "source": [
    "import os\n",
    "\n",
    "num_seconds = int(os.environ.get(\"num_seconds\", default=\"5\"))\n",
    "\n"
   ]
  },
  {
   "cell_type": "code",
   "execution_count": null,
   "id": "initial_id",
   "metadata": {
    "tags": []
   },
   "outputs": [],
   "source": [
    "import time\n",
    "\n",
    "time.sleep(num_seconds)"
   ]
  },
  {
   "cell_type": "code",
   "execution_count": null,
   "id": "9c9371dc-e996-48d0-aad2-2b557e6c3583",
   "metadata": {
    "tags": []
   },
   "outputs": [],
   "source": [
    "print(\"Task complete\")"
   ]
  },
  {
   "cell_type": "code",
   "execution_count": null,
   "id": "fda7b36b-dd0a-4d56-9d2f-38e75656eb34",
   "metadata": {},
   "outputs": [],
   "source": []
  }
 ],
 "metadata": {
  "kernelspec": {
   "display_name": "Python 3.11",
   "language": "python",
   "name": "python3"
  },
  "language_info": {
   "codemirror_mode": {
    "name": "ipython",
    "version": 3
   },
   "file_extension": ".py",
   "mimetype": "text/x-python",
   "name": "python",
   "nbconvert_exporter": "python",
   "pygments_lexer": "ipython3",
   "version": "3.11.5"
  }
 },
 "nbformat": 4,
 "nbformat_minor": 5
}
