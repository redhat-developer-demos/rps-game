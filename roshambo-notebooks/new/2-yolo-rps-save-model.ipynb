{
 "cells": [
  {
   "cell_type": "markdown",
   "id": "98008382-ad93-4f37-9e88-875fc37d14d2",
   "metadata": {},
   "source": [
    "## Export, Save and Register the Model"
   ]
  },
  {
   "cell_type": "markdown",
   "id": "c400c5d3-0b9f-4097-9794-f177eda0327e",
   "metadata": {},
   "source": [
    "# 🫡 Save the Model\n",
    "\n",
    "We need to save this model so that we can use it from various locations, including other notebooks or the model server, upload it to s3-compatible storage.\n",
    "\n",
    ">NOTE: Don't run all the cells all-in-one shot without changing the cluster specific variables."
   ]
  },
  {
   "cell_type": "code",
   "execution_count": null,
   "id": "a0d23b69-2918-473b-911b-1a3f9ef8a661",
   "metadata": {},
   "outputs": [
    {
     "name": "stdout",
     "output_type": "stream",
     "text": [
      "\n",
      "\u001b[1m[\u001b[0m\u001b[34;49mnotice\u001b[0m\u001b[1;39;49m]\u001b[0m\u001b[39;49m A new release of pip is available: \u001b[0m\u001b[31;49m23.2.1\u001b[0m\u001b[39;49m -> \u001b[0m\u001b[32;49m25.0.1\u001b[0m\n",
      "\u001b[1m[\u001b[0m\u001b[34;49mnotice\u001b[0m\u001b[1;39;49m]\u001b[0m\u001b[39;49m To update, run: \u001b[0m\u001b[32;49mpip install --upgrade pip\u001b[0m\n"
     ]
    }
   ],
   "source": [
    "!pip -q install boto3 botocore model-registry==\"0.2.9\""
   ]
  },
  {
   "cell_type": "markdown",
   "id": "a3e03aa6",
   "metadata": {},
   "source": [
    "‼️⚠️ ¡IMPORTANT! ⚠️‼️\n",
    "\n",
    "Add your user name, we need them for the Model Registry and Save Model."
   ]
  },
  {
   "cell_type": "code",
   "execution_count": null,
   "id": "0489439e",
   "metadata": {},
   "outputs": [],
   "source": [
    "## Change this before continue\n",
    "user = \"USER_REPLACE_ME\"\n",
    "\n",
    "model_path = f\"{user}-yolo-rps\"\n",
    "print(model_path)"
   ]
  },
  {
   "cell_type": "code",
   "execution_count": null,
   "id": "6a76e4b7",
   "metadata": {},
   "outputs": [],
   "source": [
    "import os\n",
    "\n",
    "HOME = os.getcwd()\n",
    "print(f\"Current Working Directory: {HOME}\")\n",
    "destination_dir = os.path.join(HOME, \"models\")\n",
    "\n",
    "# Define models directory\n",
    "models_dir = os.path.join(destination_dir, \"yolo\", \"1\")\n",
    "\n",
    "# Define full model paths\n",
    "YOLO_Rock_Paper = os.path.join(models_dir, f\"yolo-rps.pt\")\n",
    "YOLO_Rock_Paper_ONNX = os.path.join(models_dir, f\"yolo-rps.onnx\")\n",
    "\n",
    "# Print paths for verification\n",
    "print(f\"YOLO model path: {YOLO_Rock_Paper}\")\n",
    "print(f\"YOLO ONNX model path: {YOLO_Rock_Paper_ONNX}\")"
   ]
  },
  {
   "cell_type": "code",
   "execution_count": null,
   "id": "1d860f81",
   "metadata": {},
   "outputs": [],
   "source": [
    "import os\n",
    "import boto3\n",
    "import botocore\n",
    "\n",
    "# Fetch AWS credentials from environment variables\n",
    "aws_access_key_id = os.environ.get('AWS_ACCESS_KEY_ID')\n",
    "aws_secret_access_key = os.environ.get('AWS_SECRET_ACCESS_KEY')\n",
    "endpoint_url = os.environ.get('AWS_S3_ENDPOINT')\n",
    "region_name = os.environ.get('AWS_DEFAULT_REGION')\n",
    "bucket_name = os.environ.get('AWS_S3_BUCKET')\n",
    "\n",
    "# Validate that all required AWS variables are set\n",
    "if not all([aws_access_key_id, aws_secret_access_key, endpoint_url, region_name, bucket_name]):\n",
    "    raise ValueError(\"One or more AWS connection variables are missing. \"\n",
    "                     \"Please check your S3 bucket connection.\")\n",
    "\n",
    "# Create an S3 session\n",
    "session = boto3.session.Session(\n",
    "    aws_access_key_id=aws_access_key_id,\n",
    "    aws_secret_access_key=aws_secret_access_key\n",
    ")\n",
    "\n",
    "# Initialize S3 resource\n",
    "s3_resource = session.resource(\n",
    "    's3',\n",
    "    config=botocore.client.Config(signature_version='s3v4'),\n",
    "    endpoint_url=endpoint_url,\n",
    "    region_name=region_name\n",
    ")\n",
    "\n",
    "# Select the bucket\n",
    "bucket = s3_resource.Bucket(bucket_name)\n",
    "\n",
    "\n",
    "def upload_directory_to_s3(local_directory, s3_prefix):\n",
    "    \"\"\"\n",
    "    Uploads only .onnx files from `models/yolo/` and keeps the correct relative path.\n",
    "\n",
    "    :param local_directory: The local directory containing models (models/yolo).\n",
    "    :param s3_prefix: The destination prefix in S3 (models/yolo).\n",
    "    :return: The number of .onnx files uploaded.\n",
    "    \"\"\"\n",
    "    num_files = 0\n",
    "    local_directory = os.path.abspath(local_directory)  # Get absolute path\n",
    "\n",
    "    # Ensure the local directory exists\n",
    "    if not os.path.isdir(local_directory):\n",
    "        raise ValueError(f\"Local directory '{local_directory}' does not exist.\")\n",
    "\n",
    "    # Walk through directory and upload only .onnx files\n",
    "    for root, _, files in os.walk(local_directory):\n",
    "        for filename in files:\n",
    "            if filename.endswith(\".onnx\"):  # Only upload .onnx files\n",
    "                file_path = os.path.join(root, filename)\n",
    "                \n",
    "                # Preserve only the relative path from models/yolo/\n",
    "                relative_path = os.path.relpath(file_path, local_directory)\n",
    "                \n",
    "                # Ensure the correct relative S3 path (models/yolo/best2epochs.onnx)\n",
    "                s3_key = os.path.join(s3_prefix, relative_path).replace(os.path.sep, '/')\n",
    "                \n",
    "                print(f\"Uploading {file_path} -> {s3_key}\")\n",
    "                bucket.upload_file(file_path, s3_key)\n",
    "                num_files += 1\n",
    "\n",
    "    return num_files\n",
    "\n",
    "\n",
    "def list_objects(prefix):\n",
    "    \"\"\"\n",
    "    Lists objects stored in the S3 bucket under the given prefix.\n",
    "\n",
    "    :param prefix: The S3 prefix to list objects from.\n",
    "    \"\"\"\n",
    "    objects = bucket.objects.filter(Prefix=prefix)\n",
    "    for obj in objects.all():\n",
    "        print(obj.key)\n"
   ]
  },
  {
   "cell_type": "code",
   "execution_count": null,
   "id": "9f186926-5aa9-4a4a-8ede-d61efc5d1e85",
   "metadata": {},
   "outputs": [],
   "source": [
    "# List objects in the \"models\" directory on S3\n",
    "list_objects(\"models\")\n",
    "\n",
    "# Define the local models directory correctly\n",
    "local_models_directory = os.path.join(destination_dir, \"yolo\", \"1\")\n",
    "\n",
    "# Ensure the local directory exists before proceeding\n",
    "if not os.path.isdir(local_models_directory):\n",
    "    raise ValueError(f\"The directory '{local_models_directory}' does not exist. \"\n",
    "                     \"Did you finish training the model in the previous notebook?\")\n",
    "\n",
    "# Upload only ONNX files from local 'models/yolo' to S3 'models/yolo'\n",
    "num_files = upload_directory_to_s3(local_models_directory, f\"models/{model_path_s3}-v1/1\")\n",
    "\n",
    "# Validate that files were uploaded\n",
    "if num_files == 0:\n",
    "    raise ValueError(\"No files uploaded. Did you finish training and \"\n",
    "                     \"saving the model to the 'models' directory? \"\n",
    "                     \"Check for 'models/userX-yolo-rps/yolo-rps.onnx'.\")\n",
    "\n",
    "print(f\"Successfully uploaded {num_files} ONNX files to S3.\")\n"
   ]
  },
  {
   "cell_type": "markdown",
   "id": "bddde74f-361e-4870-9b50-709183cd4c8b",
   "metadata": {},
   "source": [
    "# 🤩 Kubeflow Registry\n",
    "\n",
    "We need a metadata registry for storing information such as version, author, and model location of the models we are building.\n",
    "\n",
    "We are using Kubeflow model registry as a canonical data source by storing such information.\n",
    "\n",
    "Here are some reasons to use a registry (_from Kubeflow website_):\n",
    "\n",
    "- Track models available on storage: once the model is stored, it can then be tracked in the Kubeflow Model Registry for managing its lifecycle. The Model Registry can catalog, list, index, share, record, organize this information. This allows the Data Scientist to compare different versions and revert to previous versions if needed.\n",
    "\n",
    "- Track and compare performance: View key metrics like accuracy, recall, and precision for each model version. This helps identify the best-performing model for deployment.\n",
    "\n",
    "- Create lineage: Capture the relationships between data, code, and models. This enables the Data Scientist to understand the origin of each model and reproduce specific experiments.\n",
    "\n",
    "- Collaborate: Share models and experiment details with the MLOps Engineer for deployment preparation. This ensures a seamless transition from training to production.\n",
    "\n",
    "An instance of the registry is available in your dev environment as well. \n"
   ]
  },
  {
   "cell_type": "code",
   "execution_count": null,
   "id": "e50f147b-cbea-4f42-b98f-590d51ca8050",
   "metadata": {},
   "outputs": [],
   "source": [
    "from model_registry import ModelRegistry\n",
    "from model_registry.exceptions import StoreError"
   ]
  },
  {
   "cell_type": "markdown",
   "id": "16faec36-9f65-4cd3-b20f-f29f53e4efaa",
   "metadata": {},
   "source": [
    "‼️⚠️ ¡IMPORTANT! ⚠️‼️\n",
    "\n",
    "Add your user name and cluster domain (apps.xxx) that are shared with you before \n",
    "\n",
    "we need them for the model registry URL."
   ]
  },
  {
   "cell_type": "code",
   "execution_count": null,
   "id": "d87b8648-8cc9-4d0c-bbd4-7b5c46565268",
   "metadata": {},
   "outputs": [],
   "source": [
    "USERNAME = \"xxx\"\n",
    "CLUSTER_DOMAIN = \"xxxx\"\n",
    "\n",
    "# Model Registry Configuration\n",
    "MODEL_REGISTRY_URL = f\"https://registry-rest.{CLUSTER_DOMAIN}\"\n",
    "AUTHOR_NAME = USERNAME\n",
    "\n",
    "# Initialize Model Registry Connection\n",
    "registry = ModelRegistry(\n",
    "    server_address=MODEL_REGISTRY_URL,\n",
    "    port=443,\n",
    "    author=AUTHOR_NAME,\n",
    "    is_secure=False\n",
    ")"
   ]
  },
  {
   "cell_type": "code",
   "execution_count": null,
   "id": "695c140c-fc40-4034-a129-46cb1e4379b4",
   "metadata": {},
   "outputs": [],
   "source": [
    "# Model Registration Details\n",
    "registered_model_name = model_path_s3\n",
    "version = \"v2\"  # Ensure lowercase `version` for consistency\n",
    "\n",
    "# Ensure correct S3 endpoint format\n",
    "s3_endpoint_url = endpoint_url.replace(\"https://\", \"\")\n",
    "\n",
    "# Define the model path in S3 (keeping it consistent with the uploaded structure)\n",
    "model_path = f\"models/{model_path_s3}-v1/1\"  # Ensure model_path is defined\n",
    "\n",
    "# Full S3 URI for the model\n",
    "s3_model_uri = f\"s3://{s3_endpoint_url}/{model_path}/yolo-rps.onnx\"\n",
    "\n",
    "# Register model (if not already registered)\n",
    "try:\n",
    "    rm = registry.register_model(\n",
    "        registered_model_name,\n",
    "        s3_model_uri,  # Now correctly references `s3_model_uri`\n",
    "        model_format_name=\"onnx\",\n",
    "        model_format_version=\"1\",\n",
    "        version=version,\n",
    "        description=\"Yolo-v11 trained with Rock Paper Scissors dataset\",\n",
    "        metadata={\n",
    "            \"license\": \"apache-2.0\"\n",
    "        }\n",
    "    )\n",
    "    print(f\"Model and version registered successfully as:\\n{rm}\")\n",
    "\n",
    "except StoreError:\n",
    "    rmver = registry.get_model_version(registered_model_name, version)\n",
    "    print(f\"Model and version already exists:\\n{rmver}\")"
   ]
  }
 ],
 "metadata": {
  "kernelspec": {
   "display_name": "Python 3.11",
   "language": "python",
   "name": "python3"
  },
  "language_info": {
   "codemirror_mode": {
    "name": "ipython",
    "version": 3
   },
   "file_extension": ".py",
   "mimetype": "text/x-python",
   "name": "python",
   "nbconvert_exporter": "python",
   "pygments_lexer": "ipython3",
   "version": "3.11.7"
  }
 },
 "nbformat": 4,
 "nbformat_minor": 5
}
