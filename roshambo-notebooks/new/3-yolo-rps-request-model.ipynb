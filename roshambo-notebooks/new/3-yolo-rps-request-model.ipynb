{
 "cells": [
  {
   "cell_type": "markdown",
   "id": "eb98e193-3f94-461d-8931-9815651f49c9",
   "metadata": {},
   "source": [
    "# Request Model"
   ]
  },
  {
   "cell_type": "code",
   "execution_count": null,
   "id": "b50ef9b1",
   "metadata": {},
   "outputs": [],
   "source": [
    "import requests\n",
    "import json\n",
    "import numpy as np\n",
    "import cv2\n",
    "import matplotlib.pyplot as plt\n",
    "import os\n",
    "from remote_infer import process_image\n",
    "\n",
    "KSERVE_URL = \"REPLACE_WITH_MODEL_ENDPOINT_URL\"\n",
    "MODEL_NAME = \"REPLACE_WITH_MODEL_ENDPOINT_NAME\"\n",
    "\n",
    "# Define KServe inference endpoint\n",
    "MODEL_URL = f\"{KSERVE_URL}/v2/models/{MODEL_NAME}/infer\"\n",
    "\n",
    "print(MODEL_URL)\n",
    "\n",
    "# Define the local image path\n",
    "HOME = os.getcwd()\n",
    "destination_dir = os.path.join(HOME, \"datasets\", \"data\")  # Root directory\n",
    "image_name = \"20220216_221550_jpg.rf.02a071a383151953fcf8671fc7fca3af.jpg\"\n",
    "image_path = os.path.join(destination_dir, \"test\", \"images\", image_name)\n",
    "print(image_path)"
   ]
  },
  {
   "cell_type": "code",
   "execution_count": null,
   "id": "90459373-7902-4c0a-8774-de6fee407670",
   "metadata": {},
   "outputs": [],
   "source": [
    "# Perform inference\n",
    "img = process_image(image_path, KSERVE_URL)\n",
    "\n",
    "# Convert BGR to RGB for visualization\n",
    "img = cv2.cvtColor(img, cv2.COLOR_BGR2RGB)\n",
    "\n",
    "# Display the result\n",
    "plt.figure(figsize=(8, 6))\n",
    "plt.axis(\"off\")\n",
    "plt.imshow(img)\n",
    "plt.show()"
   ]
  }
 ],
 "metadata": {
  "kernelspec": {
   "display_name": "Python 3.11",
   "language": "python",
   "name": "python3"
  },
  "language_info": {
   "codemirror_mode": {
    "name": "ipython",
    "version": 3
   },
   "file_extension": ".py",
   "mimetype": "text/x-python",
   "name": "python",
   "nbconvert_exporter": "python",
   "pygments_lexer": "ipython3",
   "version": "3.11.7"
  }
 },
 "nbformat": 4,
 "nbformat_minor": 5
}
